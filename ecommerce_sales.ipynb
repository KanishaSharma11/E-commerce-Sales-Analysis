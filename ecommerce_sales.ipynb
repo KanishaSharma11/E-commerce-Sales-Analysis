{
 "cells": [
  {
   "cell_type": "markdown",
   "metadata": {},
   "source": [
    "Importing Libraries"
   ]
  },
  {
   "cell_type": "code",
   "execution_count": 1,
   "metadata": {},
   "outputs": [],
   "source": [
    "import pandas as pd\n",
    "import numpy as np\n",
    "import matplotlib.pyplot as plt\n",
    "import seaborn as sns"
   ]
  },
  {
   "cell_type": "markdown",
   "metadata": {},
   "source": [
    "Loading the dataset"
   ]
  },
  {
   "cell_type": "code",
   "execution_count": 2,
   "metadata": {},
   "outputs": [],
   "source": [
    "df = pd.read_csv(\"online_retail.csv\", encoding=\"latin1\")"
   ]
  },
  {
   "cell_type": "code",
   "execution_count": 3,
   "metadata": {},
   "outputs": [
    {
     "data": {
      "application/vnd.microsoft.datawrangler.viewer.v0+json": {
       "columns": [
        {
         "name": "index",
         "rawType": "int64",
         "type": "integer"
        },
        {
         "name": "InvoiceNo",
         "rawType": "object",
         "type": "string"
        },
        {
         "name": "StockCode",
         "rawType": "object",
         "type": "string"
        },
        {
         "name": "Description",
         "rawType": "object",
         "type": "unknown"
        },
        {
         "name": "Quantity",
         "rawType": "int64",
         "type": "integer"
        },
        {
         "name": "InvoiceDate",
         "rawType": "object",
         "type": "string"
        },
        {
         "name": "UnitPrice",
         "rawType": "float64",
         "type": "float"
        },
        {
         "name": "CustomerID",
         "rawType": "float64",
         "type": "float"
        },
        {
         "name": "Country",
         "rawType": "object",
         "type": "string"
        }
       ],
       "conversionMethod": "pd.DataFrame",
       "ref": "824f2331-a131-4b74-8010-8f87d27c6402",
       "rows": [
        [
         "0",
         "536365",
         "85123A",
         "WHITE HANGING HEART T-LIGHT HOLDER",
         "6",
         "2010-12-01 08:26:00",
         "2.55",
         "17850.0",
         "United Kingdom"
        ],
        [
         "1",
         "536365",
         "71053",
         "WHITE METAL LANTERN",
         "6",
         "2010-12-01 08:26:00",
         "3.39",
         "17850.0",
         "United Kingdom"
        ],
        [
         "2",
         "536365",
         "84406B",
         "CREAM CUPID HEARTS COAT HANGER",
         "8",
         "2010-12-01 08:26:00",
         "2.75",
         "17850.0",
         "United Kingdom"
        ],
        [
         "3",
         "536365",
         "84029G",
         "KNITTED UNION FLAG HOT WATER BOTTLE",
         "6",
         "2010-12-01 08:26:00",
         "3.39",
         "17850.0",
         "United Kingdom"
        ],
        [
         "4",
         "536365",
         "84029E",
         "RED WOOLLY HOTTIE WHITE HEART.",
         "6",
         "2010-12-01 08:26:00",
         "3.39",
         "17850.0",
         "United Kingdom"
        ],
        [
         "5",
         "536365",
         "22752",
         "SET 7 BABUSHKA NESTING BOXES",
         "2",
         "2010-12-01 08:26:00",
         "7.65",
         "17850.0",
         "United Kingdom"
        ],
        [
         "6",
         "536365",
         "21730",
         "GLASS STAR FROSTED T-LIGHT HOLDER",
         "6",
         "2010-12-01 08:26:00",
         "4.25",
         "17850.0",
         "United Kingdom"
        ],
        [
         "7",
         "536366",
         "22633",
         "HAND WARMER UNION JACK",
         "6",
         "2010-12-01 08:28:00",
         "1.85",
         "17850.0",
         "United Kingdom"
        ],
        [
         "8",
         "536366",
         "22632",
         "HAND WARMER RED POLKA DOT",
         "6",
         "2010-12-01 08:28:00",
         "1.85",
         "17850.0",
         "United Kingdom"
        ],
        [
         "9",
         "536367",
         "84879",
         "ASSORTED COLOUR BIRD ORNAMENT",
         "32",
         "2010-12-01 08:34:00",
         "1.69",
         "13047.0",
         "United Kingdom"
        ],
        [
         "10",
         "536367",
         "22745",
         "POPPY'S PLAYHOUSE BEDROOM ",
         "6",
         "2010-12-01 08:34:00",
         "2.1",
         "13047.0",
         "United Kingdom"
        ],
        [
         "11",
         "536367",
         "22748",
         "POPPY'S PLAYHOUSE KITCHEN",
         "6",
         "2010-12-01 08:34:00",
         "2.1",
         "13047.0",
         "United Kingdom"
        ],
        [
         "12",
         "536367",
         "22749",
         "FELTCRAFT PRINCESS CHARLOTTE DOLL",
         "8",
         "2010-12-01 08:34:00",
         "3.75",
         "13047.0",
         "United Kingdom"
        ],
        [
         "13",
         "536367",
         "22310",
         "IVORY KNITTED MUG COSY ",
         "6",
         "2010-12-01 08:34:00",
         "1.65",
         "13047.0",
         "United Kingdom"
        ],
        [
         "14",
         "536367",
         "84969",
         "BOX OF 6 ASSORTED COLOUR TEASPOONS",
         "6",
         "2010-12-01 08:34:00",
         "4.25",
         "13047.0",
         "United Kingdom"
        ],
        [
         "15",
         "536367",
         "22623",
         "BOX OF VINTAGE JIGSAW BLOCKS ",
         "3",
         "2010-12-01 08:34:00",
         "4.95",
         "13047.0",
         "United Kingdom"
        ],
        [
         "16",
         "536367",
         "22622",
         "BOX OF VINTAGE ALPHABET BLOCKS",
         "2",
         "2010-12-01 08:34:00",
         "9.95",
         "13047.0",
         "United Kingdom"
        ],
        [
         "17",
         "536367",
         "21754",
         "HOME BUILDING BLOCK WORD",
         "3",
         "2010-12-01 08:34:00",
         "5.95",
         "13047.0",
         "United Kingdom"
        ],
        [
         "18",
         "536367",
         "21755",
         "LOVE BUILDING BLOCK WORD",
         "3",
         "2010-12-01 08:34:00",
         "5.95",
         "13047.0",
         "United Kingdom"
        ],
        [
         "19",
         "536367",
         "21777",
         "RECIPE BOX WITH METAL HEART",
         "4",
         "2010-12-01 08:34:00",
         "7.95",
         "13047.0",
         "United Kingdom"
        ],
        [
         "20",
         "536367",
         "48187",
         "DOORMAT NEW ENGLAND",
         "4",
         "2010-12-01 08:34:00",
         "7.95",
         "13047.0",
         "United Kingdom"
        ],
        [
         "21",
         "536368",
         "22960",
         "JAM MAKING SET WITH JARS",
         "6",
         "2010-12-01 08:34:00",
         "4.25",
         "13047.0",
         "United Kingdom"
        ],
        [
         "22",
         "536368",
         "22913",
         "RED COAT RACK PARIS FASHION",
         "3",
         "2010-12-01 08:34:00",
         "4.95",
         "13047.0",
         "United Kingdom"
        ],
        [
         "23",
         "536368",
         "22912",
         "YELLOW COAT RACK PARIS FASHION",
         "3",
         "2010-12-01 08:34:00",
         "4.95",
         "13047.0",
         "United Kingdom"
        ],
        [
         "24",
         "536368",
         "22914",
         "BLUE COAT RACK PARIS FASHION",
         "3",
         "2010-12-01 08:34:00",
         "4.95",
         "13047.0",
         "United Kingdom"
        ],
        [
         "25",
         "536369",
         "21756",
         "BATH BUILDING BLOCK WORD",
         "3",
         "2010-12-01 08:35:00",
         "5.95",
         "13047.0",
         "United Kingdom"
        ],
        [
         "26",
         "536370",
         "22728",
         "ALARM CLOCK BAKELIKE PINK",
         "24",
         "2010-12-01 08:45:00",
         "3.75",
         "12583.0",
         "France"
        ],
        [
         "27",
         "536370",
         "22727",
         "ALARM CLOCK BAKELIKE RED ",
         "24",
         "2010-12-01 08:45:00",
         "3.75",
         "12583.0",
         "France"
        ],
        [
         "28",
         "536370",
         "22726",
         "ALARM CLOCK BAKELIKE GREEN",
         "12",
         "2010-12-01 08:45:00",
         "3.75",
         "12583.0",
         "France"
        ],
        [
         "29",
         "536370",
         "21724",
         "PANDA AND BUNNIES STICKER SHEET",
         "12",
         "2010-12-01 08:45:00",
         "0.85",
         "12583.0",
         "France"
        ],
        [
         "30",
         "536370",
         "21883",
         "STARS GIFT TAPE ",
         "24",
         "2010-12-01 08:45:00",
         "0.65",
         "12583.0",
         "France"
        ],
        [
         "31",
         "536370",
         "10002",
         "INFLATABLE POLITICAL GLOBE ",
         "48",
         "2010-12-01 08:45:00",
         "0.85",
         "12583.0",
         "France"
        ],
        [
         "32",
         "536370",
         "21791",
         "VINTAGE HEADS AND TAILS CARD GAME ",
         "24",
         "2010-12-01 08:45:00",
         "1.25",
         "12583.0",
         "France"
        ],
        [
         "33",
         "536370",
         "21035",
         "SET/2 RED RETROSPOT TEA TOWELS ",
         "18",
         "2010-12-01 08:45:00",
         "2.95",
         "12583.0",
         "France"
        ],
        [
         "34",
         "536370",
         "22326",
         "ROUND SNACK BOXES SET OF4 WOODLAND ",
         "24",
         "2010-12-01 08:45:00",
         "2.95",
         "12583.0",
         "France"
        ],
        [
         "35",
         "536370",
         "22629",
         "SPACEBOY LUNCH BOX ",
         "24",
         "2010-12-01 08:45:00",
         "1.95",
         "12583.0",
         "France"
        ],
        [
         "36",
         "536370",
         "22659",
         "LUNCH BOX I LOVE LONDON",
         "24",
         "2010-12-01 08:45:00",
         "1.95",
         "12583.0",
         "France"
        ],
        [
         "37",
         "536370",
         "22631",
         "CIRCUS PARADE LUNCH BOX ",
         "24",
         "2010-12-01 08:45:00",
         "1.95",
         "12583.0",
         "France"
        ],
        [
         "38",
         "536370",
         "22661",
         "CHARLOTTE BAG DOLLY GIRL DESIGN",
         "20",
         "2010-12-01 08:45:00",
         "0.85",
         "12583.0",
         "France"
        ],
        [
         "39",
         "536370",
         "21731",
         "RED TOADSTOOL LED NIGHT LIGHT",
         "24",
         "2010-12-01 08:45:00",
         "1.65",
         "12583.0",
         "France"
        ],
        [
         "40",
         "536370",
         "22900",
         " SET 2 TEA TOWELS I LOVE LONDON ",
         "24",
         "2010-12-01 08:45:00",
         "2.95",
         "12583.0",
         "France"
        ],
        [
         "41",
         "536370",
         "21913",
         "VINTAGE SEASIDE JIGSAW PUZZLES",
         "12",
         "2010-12-01 08:45:00",
         "3.75",
         "12583.0",
         "France"
        ],
        [
         "42",
         "536370",
         "22540",
         "MINI JIGSAW CIRCUS PARADE ",
         "24",
         "2010-12-01 08:45:00",
         "0.42",
         "12583.0",
         "France"
        ],
        [
         "43",
         "536370",
         "22544",
         "MINI JIGSAW SPACEBOY",
         "24",
         "2010-12-01 08:45:00",
         "0.42",
         "12583.0",
         "France"
        ],
        [
         "44",
         "536370",
         "22492",
         "MINI PAINT SET VINTAGE ",
         "36",
         "2010-12-01 08:45:00",
         "0.65",
         "12583.0",
         "France"
        ],
        [
         "45",
         "536370",
         "POST",
         "POSTAGE",
         "3",
         "2010-12-01 08:45:00",
         "18.0",
         "12583.0",
         "France"
        ],
        [
         "46",
         "536371",
         "22086",
         "PAPER CHAIN KIT 50'S CHRISTMAS ",
         "80",
         "2010-12-01 09:00:00",
         "2.55",
         "13748.0",
         "United Kingdom"
        ],
        [
         "47",
         "536372",
         "22632",
         "HAND WARMER RED POLKA DOT",
         "6",
         "2010-12-01 09:01:00",
         "1.85",
         "17850.0",
         "United Kingdom"
        ],
        [
         "48",
         "536372",
         "22633",
         "HAND WARMER UNION JACK",
         "6",
         "2010-12-01 09:01:00",
         "1.85",
         "17850.0",
         "United Kingdom"
        ],
        [
         "49",
         "536373",
         "85123A",
         "WHITE HANGING HEART T-LIGHT HOLDER",
         "6",
         "2010-12-01 09:02:00",
         "2.55",
         "17850.0",
         "United Kingdom"
        ]
       ],
       "shape": {
        "columns": 8,
        "rows": 541909
       }
      },
      "text/html": [
       "<div>\n",
       "<style scoped>\n",
       "    .dataframe tbody tr th:only-of-type {\n",
       "        vertical-align: middle;\n",
       "    }\n",
       "\n",
       "    .dataframe tbody tr th {\n",
       "        vertical-align: top;\n",
       "    }\n",
       "\n",
       "    .dataframe thead th {\n",
       "        text-align: right;\n",
       "    }\n",
       "</style>\n",
       "<table border=\"1\" class=\"dataframe\">\n",
       "  <thead>\n",
       "    <tr style=\"text-align: right;\">\n",
       "      <th></th>\n",
       "      <th>InvoiceNo</th>\n",
       "      <th>StockCode</th>\n",
       "      <th>Description</th>\n",
       "      <th>Quantity</th>\n",
       "      <th>InvoiceDate</th>\n",
       "      <th>UnitPrice</th>\n",
       "      <th>CustomerID</th>\n",
       "      <th>Country</th>\n",
       "    </tr>\n",
       "  </thead>\n",
       "  <tbody>\n",
       "    <tr>\n",
       "      <th>0</th>\n",
       "      <td>536365</td>\n",
       "      <td>85123A</td>\n",
       "      <td>WHITE HANGING HEART T-LIGHT HOLDER</td>\n",
       "      <td>6</td>\n",
       "      <td>2010-12-01 08:26:00</td>\n",
       "      <td>2.55</td>\n",
       "      <td>17850.0</td>\n",
       "      <td>United Kingdom</td>\n",
       "    </tr>\n",
       "    <tr>\n",
       "      <th>1</th>\n",
       "      <td>536365</td>\n",
       "      <td>71053</td>\n",
       "      <td>WHITE METAL LANTERN</td>\n",
       "      <td>6</td>\n",
       "      <td>2010-12-01 08:26:00</td>\n",
       "      <td>3.39</td>\n",
       "      <td>17850.0</td>\n",
       "      <td>United Kingdom</td>\n",
       "    </tr>\n",
       "    <tr>\n",
       "      <th>2</th>\n",
       "      <td>536365</td>\n",
       "      <td>84406B</td>\n",
       "      <td>CREAM CUPID HEARTS COAT HANGER</td>\n",
       "      <td>8</td>\n",
       "      <td>2010-12-01 08:26:00</td>\n",
       "      <td>2.75</td>\n",
       "      <td>17850.0</td>\n",
       "      <td>United Kingdom</td>\n",
       "    </tr>\n",
       "    <tr>\n",
       "      <th>3</th>\n",
       "      <td>536365</td>\n",
       "      <td>84029G</td>\n",
       "      <td>KNITTED UNION FLAG HOT WATER BOTTLE</td>\n",
       "      <td>6</td>\n",
       "      <td>2010-12-01 08:26:00</td>\n",
       "      <td>3.39</td>\n",
       "      <td>17850.0</td>\n",
       "      <td>United Kingdom</td>\n",
       "    </tr>\n",
       "    <tr>\n",
       "      <th>4</th>\n",
       "      <td>536365</td>\n",
       "      <td>84029E</td>\n",
       "      <td>RED WOOLLY HOTTIE WHITE HEART.</td>\n",
       "      <td>6</td>\n",
       "      <td>2010-12-01 08:26:00</td>\n",
       "      <td>3.39</td>\n",
       "      <td>17850.0</td>\n",
       "      <td>United Kingdom</td>\n",
       "    </tr>\n",
       "    <tr>\n",
       "      <th>...</th>\n",
       "      <td>...</td>\n",
       "      <td>...</td>\n",
       "      <td>...</td>\n",
       "      <td>...</td>\n",
       "      <td>...</td>\n",
       "      <td>...</td>\n",
       "      <td>...</td>\n",
       "      <td>...</td>\n",
       "    </tr>\n",
       "    <tr>\n",
       "      <th>541904</th>\n",
       "      <td>581587</td>\n",
       "      <td>22613</td>\n",
       "      <td>PACK OF 20 SPACEBOY NAPKINS</td>\n",
       "      <td>12</td>\n",
       "      <td>2011-12-09 12:50:00</td>\n",
       "      <td>0.85</td>\n",
       "      <td>12680.0</td>\n",
       "      <td>France</td>\n",
       "    </tr>\n",
       "    <tr>\n",
       "      <th>541905</th>\n",
       "      <td>581587</td>\n",
       "      <td>22899</td>\n",
       "      <td>CHILDREN'S APRON DOLLY GIRL</td>\n",
       "      <td>6</td>\n",
       "      <td>2011-12-09 12:50:00</td>\n",
       "      <td>2.10</td>\n",
       "      <td>12680.0</td>\n",
       "      <td>France</td>\n",
       "    </tr>\n",
       "    <tr>\n",
       "      <th>541906</th>\n",
       "      <td>581587</td>\n",
       "      <td>23254</td>\n",
       "      <td>CHILDRENS CUTLERY DOLLY GIRL</td>\n",
       "      <td>4</td>\n",
       "      <td>2011-12-09 12:50:00</td>\n",
       "      <td>4.15</td>\n",
       "      <td>12680.0</td>\n",
       "      <td>France</td>\n",
       "    </tr>\n",
       "    <tr>\n",
       "      <th>541907</th>\n",
       "      <td>581587</td>\n",
       "      <td>23255</td>\n",
       "      <td>CHILDRENS CUTLERY CIRCUS PARADE</td>\n",
       "      <td>4</td>\n",
       "      <td>2011-12-09 12:50:00</td>\n",
       "      <td>4.15</td>\n",
       "      <td>12680.0</td>\n",
       "      <td>France</td>\n",
       "    </tr>\n",
       "    <tr>\n",
       "      <th>541908</th>\n",
       "      <td>581587</td>\n",
       "      <td>22138</td>\n",
       "      <td>BAKING SET 9 PIECE RETROSPOT</td>\n",
       "      <td>3</td>\n",
       "      <td>2011-12-09 12:50:00</td>\n",
       "      <td>4.95</td>\n",
       "      <td>12680.0</td>\n",
       "      <td>France</td>\n",
       "    </tr>\n",
       "  </tbody>\n",
       "</table>\n",
       "<p>541909 rows × 8 columns</p>\n",
       "</div>"
      ],
      "text/plain": [
       "       InvoiceNo StockCode                          Description  Quantity  \\\n",
       "0         536365    85123A   WHITE HANGING HEART T-LIGHT HOLDER         6   \n",
       "1         536365     71053                  WHITE METAL LANTERN         6   \n",
       "2         536365    84406B       CREAM CUPID HEARTS COAT HANGER         8   \n",
       "3         536365    84029G  KNITTED UNION FLAG HOT WATER BOTTLE         6   \n",
       "4         536365    84029E       RED WOOLLY HOTTIE WHITE HEART.         6   \n",
       "...          ...       ...                                  ...       ...   \n",
       "541904    581587     22613          PACK OF 20 SPACEBOY NAPKINS        12   \n",
       "541905    581587     22899         CHILDREN'S APRON DOLLY GIRL          6   \n",
       "541906    581587     23254        CHILDRENS CUTLERY DOLLY GIRL          4   \n",
       "541907    581587     23255      CHILDRENS CUTLERY CIRCUS PARADE         4   \n",
       "541908    581587     22138        BAKING SET 9 PIECE RETROSPOT          3   \n",
       "\n",
       "                InvoiceDate  UnitPrice  CustomerID         Country  \n",
       "0       2010-12-01 08:26:00       2.55     17850.0  United Kingdom  \n",
       "1       2010-12-01 08:26:00       3.39     17850.0  United Kingdom  \n",
       "2       2010-12-01 08:26:00       2.75     17850.0  United Kingdom  \n",
       "3       2010-12-01 08:26:00       3.39     17850.0  United Kingdom  \n",
       "4       2010-12-01 08:26:00       3.39     17850.0  United Kingdom  \n",
       "...                     ...        ...         ...             ...  \n",
       "541904  2011-12-09 12:50:00       0.85     12680.0          France  \n",
       "541905  2011-12-09 12:50:00       2.10     12680.0          France  \n",
       "541906  2011-12-09 12:50:00       4.15     12680.0          France  \n",
       "541907  2011-12-09 12:50:00       4.15     12680.0          France  \n",
       "541908  2011-12-09 12:50:00       4.95     12680.0          France  \n",
       "\n",
       "[541909 rows x 8 columns]"
      ]
     },
     "execution_count": 3,
     "metadata": {},
     "output_type": "execute_result"
    }
   ],
   "source": [
    "df"
   ]
  },
  {
   "cell_type": "code",
   "execution_count": 5,
   "metadata": {},
   "outputs": [
    {
     "data": {
      "application/vnd.microsoft.datawrangler.viewer.v0+json": {
       "columns": [
        {
         "name": "index",
         "rawType": "int64",
         "type": "integer"
        },
        {
         "name": "InvoiceNo",
         "rawType": "object",
         "type": "string"
        },
        {
         "name": "StockCode",
         "rawType": "object",
         "type": "string"
        },
        {
         "name": "Description",
         "rawType": "object",
         "type": "string"
        },
        {
         "name": "Quantity",
         "rawType": "int64",
         "type": "integer"
        },
        {
         "name": "InvoiceDate",
         "rawType": "object",
         "type": "string"
        },
        {
         "name": "UnitPrice",
         "rawType": "float64",
         "type": "float"
        },
        {
         "name": "CustomerID",
         "rawType": "float64",
         "type": "float"
        },
        {
         "name": "Country",
         "rawType": "object",
         "type": "string"
        }
       ],
       "conversionMethod": "pd.DataFrame",
       "ref": "43d940a2-0da0-473f-b878-3490c7f59ca3",
       "rows": [
        [
         "0",
         "536365",
         "85123A",
         "WHITE HANGING HEART T-LIGHT HOLDER",
         "6",
         "2010-12-01 08:26:00",
         "2.55",
         "17850.0",
         "United Kingdom"
        ],
        [
         "1",
         "536365",
         "71053",
         "WHITE METAL LANTERN",
         "6",
         "2010-12-01 08:26:00",
         "3.39",
         "17850.0",
         "United Kingdom"
        ],
        [
         "2",
         "536365",
         "84406B",
         "CREAM CUPID HEARTS COAT HANGER",
         "8",
         "2010-12-01 08:26:00",
         "2.75",
         "17850.0",
         "United Kingdom"
        ],
        [
         "3",
         "536365",
         "84029G",
         "KNITTED UNION FLAG HOT WATER BOTTLE",
         "6",
         "2010-12-01 08:26:00",
         "3.39",
         "17850.0",
         "United Kingdom"
        ],
        [
         "4",
         "536365",
         "84029E",
         "RED WOOLLY HOTTIE WHITE HEART.",
         "6",
         "2010-12-01 08:26:00",
         "3.39",
         "17850.0",
         "United Kingdom"
        ]
       ],
       "shape": {
        "columns": 8,
        "rows": 5
       }
      },
      "text/html": [
       "<div>\n",
       "<style scoped>\n",
       "    .dataframe tbody tr th:only-of-type {\n",
       "        vertical-align: middle;\n",
       "    }\n",
       "\n",
       "    .dataframe tbody tr th {\n",
       "        vertical-align: top;\n",
       "    }\n",
       "\n",
       "    .dataframe thead th {\n",
       "        text-align: right;\n",
       "    }\n",
       "</style>\n",
       "<table border=\"1\" class=\"dataframe\">\n",
       "  <thead>\n",
       "    <tr style=\"text-align: right;\">\n",
       "      <th></th>\n",
       "      <th>InvoiceNo</th>\n",
       "      <th>StockCode</th>\n",
       "      <th>Description</th>\n",
       "      <th>Quantity</th>\n",
       "      <th>InvoiceDate</th>\n",
       "      <th>UnitPrice</th>\n",
       "      <th>CustomerID</th>\n",
       "      <th>Country</th>\n",
       "    </tr>\n",
       "  </thead>\n",
       "  <tbody>\n",
       "    <tr>\n",
       "      <th>0</th>\n",
       "      <td>536365</td>\n",
       "      <td>85123A</td>\n",
       "      <td>WHITE HANGING HEART T-LIGHT HOLDER</td>\n",
       "      <td>6</td>\n",
       "      <td>2010-12-01 08:26:00</td>\n",
       "      <td>2.55</td>\n",
       "      <td>17850.0</td>\n",
       "      <td>United Kingdom</td>\n",
       "    </tr>\n",
       "    <tr>\n",
       "      <th>1</th>\n",
       "      <td>536365</td>\n",
       "      <td>71053</td>\n",
       "      <td>WHITE METAL LANTERN</td>\n",
       "      <td>6</td>\n",
       "      <td>2010-12-01 08:26:00</td>\n",
       "      <td>3.39</td>\n",
       "      <td>17850.0</td>\n",
       "      <td>United Kingdom</td>\n",
       "    </tr>\n",
       "    <tr>\n",
       "      <th>2</th>\n",
       "      <td>536365</td>\n",
       "      <td>84406B</td>\n",
       "      <td>CREAM CUPID HEARTS COAT HANGER</td>\n",
       "      <td>8</td>\n",
       "      <td>2010-12-01 08:26:00</td>\n",
       "      <td>2.75</td>\n",
       "      <td>17850.0</td>\n",
       "      <td>United Kingdom</td>\n",
       "    </tr>\n",
       "    <tr>\n",
       "      <th>3</th>\n",
       "      <td>536365</td>\n",
       "      <td>84029G</td>\n",
       "      <td>KNITTED UNION FLAG HOT WATER BOTTLE</td>\n",
       "      <td>6</td>\n",
       "      <td>2010-12-01 08:26:00</td>\n",
       "      <td>3.39</td>\n",
       "      <td>17850.0</td>\n",
       "      <td>United Kingdom</td>\n",
       "    </tr>\n",
       "    <tr>\n",
       "      <th>4</th>\n",
       "      <td>536365</td>\n",
       "      <td>84029E</td>\n",
       "      <td>RED WOOLLY HOTTIE WHITE HEART.</td>\n",
       "      <td>6</td>\n",
       "      <td>2010-12-01 08:26:00</td>\n",
       "      <td>3.39</td>\n",
       "      <td>17850.0</td>\n",
       "      <td>United Kingdom</td>\n",
       "    </tr>\n",
       "  </tbody>\n",
       "</table>\n",
       "</div>"
      ],
      "text/plain": [
       "  InvoiceNo StockCode                          Description  Quantity  \\\n",
       "0    536365    85123A   WHITE HANGING HEART T-LIGHT HOLDER         6   \n",
       "1    536365     71053                  WHITE METAL LANTERN         6   \n",
       "2    536365    84406B       CREAM CUPID HEARTS COAT HANGER         8   \n",
       "3    536365    84029G  KNITTED UNION FLAG HOT WATER BOTTLE         6   \n",
       "4    536365    84029E       RED WOOLLY HOTTIE WHITE HEART.         6   \n",
       "\n",
       "           InvoiceDate  UnitPrice  CustomerID         Country  \n",
       "0  2010-12-01 08:26:00       2.55     17850.0  United Kingdom  \n",
       "1  2010-12-01 08:26:00       3.39     17850.0  United Kingdom  \n",
       "2  2010-12-01 08:26:00       2.75     17850.0  United Kingdom  \n",
       "3  2010-12-01 08:26:00       3.39     17850.0  United Kingdom  \n",
       "4  2010-12-01 08:26:00       3.39     17850.0  United Kingdom  "
      ]
     },
     "execution_count": 5,
     "metadata": {},
     "output_type": "execute_result"
    }
   ],
   "source": [
    "df.head(5)"
   ]
  },
  {
   "cell_type": "markdown",
   "metadata": {},
   "source": [
    "Data Cleaning"
   ]
  },
  {
   "cell_type": "code",
   "execution_count": 6,
   "metadata": {},
   "outputs": [],
   "source": [
    "df.dropna(subset=[\"CustomerID\"], inplace=True)  # Remove rows with missing CustomerID\n",
    "df[\"InvoiceDate\"] = pd.to_datetime(df[\"InvoiceDate\"])  # Convert to datetime\n",
    "df = df[df[\"Quantity\"] > 0]  # Remove negative quantities\n",
    "df = df[df[\"UnitPrice\"] > 0]  # Remove negative prices"
   ]
  },
  {
   "cell_type": "markdown",
   "metadata": {},
   "source": [
    "Add total sales column"
   ]
  },
  {
   "cell_type": "code",
   "execution_count": 7,
   "metadata": {},
   "outputs": [],
   "source": [
    "df[\"TotalSales\"] = df[\"Quantity\"] * df[\"UnitPrice\"]"
   ]
  },
  {
   "cell_type": "markdown",
   "metadata": {},
   "source": [
    "# 1. Basic Statistics"
   ]
  },
  {
   "cell_type": "code",
   "execution_count": 8,
   "metadata": {},
   "outputs": [
    {
     "name": "stdout",
     "output_type": "stream",
     "text": [
      "<class 'pandas.core.frame.DataFrame'>\n",
      "Index: 397884 entries, 0 to 541908\n",
      "Data columns (total 9 columns):\n",
      " #   Column       Non-Null Count   Dtype         \n",
      "---  ------       --------------   -----         \n",
      " 0   InvoiceNo    397884 non-null  object        \n",
      " 1   StockCode    397884 non-null  object        \n",
      " 2   Description  397884 non-null  object        \n",
      " 3   Quantity     397884 non-null  int64         \n",
      " 4   InvoiceDate  397884 non-null  datetime64[ns]\n",
      " 5   UnitPrice    397884 non-null  float64       \n",
      " 6   CustomerID   397884 non-null  float64       \n",
      " 7   Country      397884 non-null  object        \n",
      " 8   TotalSales   397884 non-null  float64       \n",
      "dtypes: datetime64[ns](1), float64(3), int64(1), object(4)\n",
      "memory usage: 30.4+ MB\n",
      "            Quantity                    InvoiceDate      UnitPrice  \\\n",
      "count  397884.000000                         397884  397884.000000   \n",
      "mean       12.988238  2011-07-10 23:41:23.511023360       3.116488   \n",
      "min         1.000000            2010-12-01 08:26:00       0.001000   \n",
      "25%         2.000000            2011-04-07 11:12:00       1.250000   \n",
      "50%         6.000000            2011-07-31 14:39:00       1.950000   \n",
      "75%        12.000000            2011-10-20 14:33:00       3.750000   \n",
      "max     80995.000000            2011-12-09 12:50:00    8142.750000   \n",
      "std       179.331775                            NaN      22.097877   \n",
      "\n",
      "          CustomerID     TotalSales  \n",
      "count  397884.000000  397884.000000  \n",
      "mean    15294.423453      22.397000  \n",
      "min     12346.000000       0.001000  \n",
      "25%     13969.000000       4.680000  \n",
      "50%     15159.000000      11.800000  \n",
      "75%     16795.000000      19.800000  \n",
      "max     18287.000000  168469.600000  \n",
      "std      1713.141560     309.071041  \n",
      "None\n"
     ]
    }
   ],
   "source": [
    "summary_stats = df.describe()\n",
    "info = df.info()\n",
    "print(summary_stats)\n",
    "print(info)"
   ]
  },
  {
   "cell_type": "markdown",
   "metadata": {},
   "source": [
    "# 2. Sales Trends Over Time"
   ]
  },
  {
   "cell_type": "code",
   "execution_count": 9,
   "metadata": {},
   "outputs": [
    {
     "data": {
      "image/png": "[encoded data removed]",
      "text/plain": [
       "<Figure size 1200x500 with 1 Axes>"
      ]
     },
     "metadata": {},
     "output_type": "display_data"
    }
   ],
   "source": [
    "df[\"InvoiceYearMonth\"] = df[\"InvoiceDate\"].dt.to_period(\"M\")\n",
    "sales_trend = df.groupby(\"InvoiceYearMonth\")[\"TotalSales\"].sum()\n",
    "\n",
    "plt.figure(figsize=(12, 5))\n",
    "plt.plot(sales_trend.index.astype(str), sales_trend.values, marker=\"o\", linestyle=\"-\", color=\"b\")\n",
    "plt.xlabel(\"Year-Month\")\n",
    "plt.ylabel(\"Total Sales\")\n",
    "plt.title(\"Sales Trend Over Time\")\n",
    "plt.xticks(rotation=45)\n",
    "plt.grid()\n",
    "plt.show()"
   ]
  },
  {
   "cell_type": "markdown",
   "metadata": {},
   "source": [
    "# 3. Top 10 Selling Products"
   ]
  },
  {
   "cell_type": "code",
   "execution_count": 19,
   "metadata": {},
   "outputs": [
    {
     "name": "stderr",
     "output_type": "stream",
     "text": [
      "C:\\Users\\Addmin\\AppData\\Local\\Temp\\ipykernel_1620\\1155537747.py:4: FutureWarning: \n",
      "\n",
      "Passing `palette` without assigning `hue` is deprecated and will be removed in v0.14.0. Assign the `y` variable to `hue` and set `legend=False` for the same effect.\n",
      "\n",
      "  sns.barplot(x=top_products.values, y=top_products.index, palette=\"viridis\")\n"
     ]
    },
    {
     "data": {
      "image/png": "[encoded data removed]",
      "text/plain": [
       "<Figure size 1200x500 with 1 Axes>"
      ]
     },
     "metadata": {},
     "output_type": "display_data"
    }
   ],
   "source": [
    "top_products = df.groupby(\"Description\")[\"Quantity\"].sum().sort_values(ascending=False).head(10)\n",
    "\n",
    "plt.figure(figsize=(12, 5))\n",
    "sns.barplot(x=top_products.values, y=top_products.index, palette=\"viridis\")\n",
    "plt.xlabel(\"Total Quantity Sold\")\n",
    "plt.ylabel(\"Product\")\n",
    "plt.title(\"Top 10 Best-Selling Products\")\n",
    "plt.show()"
   ]
  },
  {
   "cell_type": "markdown",
   "metadata": {},
   "source": [
    "# 4. Top Countries by Revenue"
   ]
  },
  {
   "cell_type": "code",
   "execution_count": 16,
   "metadata": {},
   "outputs": [
    {
     "name": "stderr",
     "output_type": "stream",
     "text": [
      "C:\\Users\\Addmin\\AppData\\Local\\Temp\\ipykernel_1620\\1627092765.py:4: FutureWarning: \n",
      "\n",
      "Passing `palette` without assigning `hue` is deprecated and will be removed in v0.14.0. Assign the `x` variable to `hue` and set `legend=False` for the same effect.\n",
      "\n",
      "  sns.barplot(x=top_countries.index, y=top_countries.values, palette=\"coolwarm\")\n"
     ]
    },
    {
     "data": {
      "image/png": "[encoded data removed]",
      "text/plain": [
       "<Figure size 1200x500 with 1 Axes>"
      ]
     },
     "metadata": {},
     "output_type": "display_data"
    }
   ],
   "source": [
    "top_countries = df.groupby(\"Country\")[\"TotalSales\"].sum().sort_values(ascending=False).head(10)\n",
    "\n",
    "plt.figure(figsize=(12, 5))\n",
    "sns.barplot(x=top_countries.index, y=top_countries.values, palette=\"coolwarm\")\n",
    "plt.xlabel(\"Country\")\n",
    "plt.ylabel(\"Total Sales\")\n",
    "plt.title(\"Top 10 Countries by Revenue\")\n",
    "plt.xticks(rotation=45)\n",
    "plt.show()"
   ]
  },
  {
   "cell_type": "markdown",
   "metadata": {},
   "source": [
    "# 5. Customer Purchasing Behavior"
   ]
  },
  {
   "cell_type": "code",
   "execution_count": 17,
   "metadata": {},
   "outputs": [
    {
     "data": {
      "image/png": "[encoded data removed]",
      "text/plain": [
       "<Figure size 1000x500 with 1 Axes>"
      ]
     },
     "metadata": {},
     "output_type": "display_data"
    },
    {
     "name": "stdout",
     "output_type": "stream",
     "text": [
      "Data Analysis Completed Successfully!\n"
     ]
    }
   ],
   "source": [
    "customer_spending = df.groupby(\"CustomerID\")[\"TotalSales\"].sum()\n",
    "\n",
    "plt.figure(figsize=(10, 5))\n",
    "sns.histplot(customer_spending, bins=50, kde=True, color=\"g\")\n",
    "plt.xlabel(\"Total Spending\")\n",
    "plt.ylabel(\"Number of Customers\")\n",
    "plt.title(\"Distribution of Customer Spending\")\n",
    "plt.show()\n",
    "\n",
    "print(\"Data Analysis Completed Successfully!\")"
   ]
  }
 ],
 "metadata": {
  "kernelspec": {
   "display_name": "Python 3",
   "language": "python",
   "name": "python3"
  },
  "language_info": {
   "codemirror_mode": {
    "name": "ipython",
    "version": 3
   },
   "file_extension": ".py",
   "mimetype": "text/x-python",
   "name": "python",
   "nbconvert_exporter": "python",
   "pygments_lexer": "ipython3",
   "version": "3.11.5"
  }
 },
 "nbformat": 4,
 "nbformat_minor": 2
}
